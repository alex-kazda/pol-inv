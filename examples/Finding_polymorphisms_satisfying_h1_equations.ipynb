{
 "cells": [
  {
   "cell_type": "code",
   "execution_count": 1,
   "id": "noble-motel",
   "metadata": {},
   "outputs": [],
   "source": [
    "from pol_inv import RelationalStructure, Operation, find_polymorphisms"
   ]
  },
  {
   "cell_type": "code",
   "execution_count": 2,
   "id": "imposed-entity",
   "metadata": {},
   "outputs": [],
   "source": [
    "lattice_w_constants = RelationalStructure([0,1],[[(0,0), (0,1), (1,1)], [(0,)], [(1,)]])\n",
    "majority = Operation(\"maj\",3)\n",
    "maltsev = Operation(\"p\", 3)"
   ]
  },
  {
   "cell_type": "code",
   "execution_count": 4,
   "id": "banner-album",
   "metadata": {},
   "outputs": [
    {
     "data": {
      "text/plain": [
       "{'maj': {(0, 0, 0): 0,\n",
       "  (0, 0, 1): 0,\n",
       "  (0, 1, 0): 0,\n",
       "  (0, 1, 1): 1,\n",
       "  (1, 0, 0): 0,\n",
       "  (1, 0, 1): 1,\n",
       "  (1, 1, 0): 1,\n",
       "  (1, 1, 1): 1}}"
      ]
     },
     "execution_count": 4,
     "metadata": {},
     "output_type": "execute_result"
    }
   ],
   "source": [
    "find_polymorphisms(\n",
    "    lattice_w_constants, \n",
    "    lattice_w_constants, \n",
    "    [\n",
    "        majority(\"x\",\"x\",\"y\")==majority(\"x\",\"x\",\"x\"),\n",
    "        majority(\"x\",\"y\",\"x\")==majority(\"x\",\"x\",\"x\"),\n",
    "        majority(\"y\",\"x\",\"x\")==majority(\"x\",\"x\",\"x\")\n",
    "    ])"
   ]
  },
  {
   "cell_type": "code",
   "execution_count": 5,
   "id": "spatial-matter",
   "metadata": {},
   "outputs": [],
   "source": [
    "find_polymorphisms(\n",
    "    lattice_w_constants, \n",
    "    lattice_w_constants, \n",
    "    [\n",
    "        maltsev(\"x\",\"x\",\"y\")==maltsev(\"y\",\"y\",\"y\"),\n",
    "        maltsev(\"y\",\"x\",\"x\")==maltsev(\"y\",\"y\",\"y\")\n",
    "    ])"
   ]
  },
  {
   "cell_type": "code",
   "execution_count": null,
   "id": "blond-variation",
   "metadata": {},
   "outputs": [],
   "source": []
  }
 ],
 "metadata": {
  "kernelspec": {
   "display_name": "Python 3",
   "language": "python",
   "name": "python3"
  },
  "language_info": {
   "codemirror_mode": {
    "name": "ipython",
    "version": 3
   },
   "file_extension": ".py",
   "mimetype": "text/x-python",
   "name": "python",
   "nbconvert_exporter": "python",
   "pygments_lexer": "ipython3",
   "version": "3.9.2"
  }
 },
 "nbformat": 4,
 "nbformat_minor": 5
}
